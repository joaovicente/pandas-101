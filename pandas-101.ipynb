{
 "cells": [
  {
   "cell_type": "code",
   "execution_count": 1,
   "metadata": {},
   "outputs": [],
   "source": [
    "import matplotlib.pyplot as plt\n",
    "import numpy as np\n",
    "from matplotlib.ticker import MaxNLocator\n",
    "import pandas as pd"
   ]
  },
  {
   "cell_type": "markdown",
   "metadata": {},
   "source": [
    "## Creating Pandas"
   ]
  },
  {
   "cell_type": "code",
   "execution_count": 2,
   "metadata": {},
   "outputs": [
    {
     "data": {
      "text/html": [
       "<div>\n",
       "<style scoped>\n",
       "    .dataframe tbody tr th:only-of-type {\n",
       "        vertical-align: middle;\n",
       "    }\n",
       "\n",
       "    .dataframe tbody tr th {\n",
       "        vertical-align: top;\n",
       "    }\n",
       "\n",
       "    .dataframe thead th {\n",
       "        text-align: right;\n",
       "    }\n",
       "</style>\n",
       "<table border=\"1\" class=\"dataframe\">\n",
       "  <thead>\n",
       "    <tr style=\"text-align: right;\">\n",
       "      <th></th>\n",
       "      <th>a</th>\n",
       "      <th>b</th>\n",
       "    </tr>\n",
       "  </thead>\n",
       "  <tbody>\n",
       "    <tr>\n",
       "      <th>0</th>\n",
       "      <td>1</td>\n",
       "      <td>2</td>\n",
       "    </tr>\n",
       "    <tr>\n",
       "      <th>1</th>\n",
       "      <td>2</td>\n",
       "      <td>4</td>\n",
       "    </tr>\n",
       "  </tbody>\n",
       "</table>\n",
       "</div>"
      ],
      "text/plain": [
       "   a  b\n",
       "0  1  2\n",
       "1  2  4"
      ]
     },
     "execution_count": 2,
     "metadata": {},
     "output_type": "execute_result"
    }
   ],
   "source": [
    "# Using List of records (array of dictionaries)\n",
    "list_of_dicts = [{'a':1,'b':2},{'a':2, 'b':4}] \n",
    "df = pd.DataFrame(list_of_dicts)\n",
    "df"
   ]
  },
  {
   "cell_type": "code",
   "execution_count": 3,
   "metadata": {},
   "outputs": [
    {
     "data": {
      "text/html": [
       "<div>\n",
       "<style scoped>\n",
       "    .dataframe tbody tr th:only-of-type {\n",
       "        vertical-align: middle;\n",
       "    }\n",
       "\n",
       "    .dataframe tbody tr th {\n",
       "        vertical-align: top;\n",
       "    }\n",
       "\n",
       "    .dataframe thead th {\n",
       "        text-align: right;\n",
       "    }\n",
       "</style>\n",
       "<table border=\"1\" class=\"dataframe\">\n",
       "  <thead>\n",
       "    <tr style=\"text-align: right;\">\n",
       "      <th></th>\n",
       "      <th>a</th>\n",
       "      <th>b</th>\n",
       "    </tr>\n",
       "  </thead>\n",
       "  <tbody>\n",
       "    <tr>\n",
       "      <th>0</th>\n",
       "      <td>1</td>\n",
       "      <td>2</td>\n",
       "    </tr>\n",
       "    <tr>\n",
       "      <th>1</th>\n",
       "      <td>2</td>\n",
       "      <td>4</td>\n",
       "    </tr>\n",
       "  </tbody>\n",
       "</table>\n",
       "</div>"
      ],
      "text/plain": [
       "   a  b\n",
       "0  1  2\n",
       "1  2  4"
      ]
     },
     "execution_count": 3,
     "metadata": {},
     "output_type": "execute_result"
    }
   ],
   "source": [
    "# Using List of column values\n",
    "a = [1,2]\n",
    "b = [2,4]\n",
    "df = pd.DataFrame({'a':a, 'b':b})\n",
    "df"
   ]
  },
  {
   "cell_type": "markdown",
   "metadata": {},
   "source": [
    "## Create 3 series of data to compare with each other later"
   ]
  },
  {
   "cell_type": "code",
   "execution_count": 4,
   "metadata": {},
   "outputs": [
    {
     "data": {
      "text/html": [
       "<div>\n",
       "<style scoped>\n",
       "    .dataframe tbody tr th:only-of-type {\n",
       "        vertical-align: middle;\n",
       "    }\n",
       "\n",
       "    .dataframe tbody tr th {\n",
       "        vertical-align: top;\n",
       "    }\n",
       "\n",
       "    .dataframe thead th {\n",
       "        text-align: right;\n",
       "    }\n",
       "</style>\n",
       "<table border=\"1\" class=\"dataframe\">\n",
       "  <thead>\n",
       "    <tr style=\"text-align: right;\">\n",
       "      <th></th>\n",
       "      <th>name</th>\n",
       "      <th>att1</th>\n",
       "      <th>att2</th>\n",
       "    </tr>\n",
       "  </thead>\n",
       "  <tbody>\n",
       "    <tr>\n",
       "      <th>0</th>\n",
       "      <td>a</td>\n",
       "      <td>6.467</td>\n",
       "      <td>16.8</td>\n",
       "    </tr>\n",
       "    <tr>\n",
       "      <th>1</th>\n",
       "      <td>a</td>\n",
       "      <td>6.081</td>\n",
       "      <td>16.8</td>\n",
       "    </tr>\n",
       "    <tr>\n",
       "      <th>2</th>\n",
       "      <td>a</td>\n",
       "      <td>6.487</td>\n",
       "      <td>16.8</td>\n",
       "    </tr>\n",
       "    <tr>\n",
       "      <th>3</th>\n",
       "      <td>a</td>\n",
       "      <td>3.039</td>\n",
       "      <td>16.8</td>\n",
       "    </tr>\n",
       "    <tr>\n",
       "      <th>4</th>\n",
       "      <td>a</td>\n",
       "      <td>3.304</td>\n",
       "      <td>16.8</td>\n",
       "    </tr>\n",
       "    <tr>\n",
       "      <th>...</th>\n",
       "      <td>...</td>\n",
       "      <td>...</td>\n",
       "      <td>...</td>\n",
       "    </tr>\n",
       "    <tr>\n",
       "      <th>295</th>\n",
       "      <td>c</td>\n",
       "      <td>4.716</td>\n",
       "      <td>15.7</td>\n",
       "    </tr>\n",
       "    <tr>\n",
       "      <th>296</th>\n",
       "      <td>c</td>\n",
       "      <td>2.760</td>\n",
       "      <td>15.7</td>\n",
       "    </tr>\n",
       "    <tr>\n",
       "      <th>297</th>\n",
       "      <td>c</td>\n",
       "      <td>4.493</td>\n",
       "      <td>15.7</td>\n",
       "    </tr>\n",
       "    <tr>\n",
       "      <th>298</th>\n",
       "      <td>c</td>\n",
       "      <td>4.289</td>\n",
       "      <td>15.7</td>\n",
       "    </tr>\n",
       "    <tr>\n",
       "      <th>299</th>\n",
       "      <td>c</td>\n",
       "      <td>4.021</td>\n",
       "      <td>15.7</td>\n",
       "    </tr>\n",
       "  </tbody>\n",
       "</table>\n",
       "<p>300 rows × 3 columns</p>\n",
       "</div>"
      ],
      "text/plain": [
       "    name   att1  att2\n",
       "0      a  6.467  16.8\n",
       "1      a  6.081  16.8\n",
       "2      a  6.487  16.8\n",
       "3      a  3.039  16.8\n",
       "4      a  3.304  16.8\n",
       "..   ...    ...   ...\n",
       "295    c  4.716  15.7\n",
       "296    c  2.760  15.7\n",
       "297    c  4.493  15.7\n",
       "298    c  4.289  15.7\n",
       "299    c  4.021  15.7\n",
       "\n",
       "[300 rows x 3 columns]"
      ]
     },
     "execution_count": 4,
     "metadata": {},
     "output_type": "execute_result"
    }
   ],
   "source": [
    "# Create 3 series of samples\n",
    "num_samples = 100\n",
    "class SeriesDescriptor:\n",
    "    def __init__(self, name, lower, upper, num_samples):\n",
    "        self.name = name\n",
    "        self.lower = lower\n",
    "        self.upper = upper\n",
    "        self.num_samples = num_samples\n",
    "\n",
    "my_series_descriptor_list = [\n",
    "    SeriesDescriptor('a',3,8,num_samples), \n",
    "    SeriesDescriptor('b',4,9,num_samples), \n",
    "    SeriesDescriptor('c',2,5,num_samples)\n",
    "]\n",
    "\n",
    "def series_constructor(series_descriptor_list):\n",
    "    names, att1s, att2s = [], [], []\n",
    "    for sd in series_descriptor_list:\n",
    "        names += [sd.name for i in range(sd.num_samples)]\n",
    "        # Random number between sd.lower and sd.upper\n",
    "        att1s += [np.round(np.random.uniform(sd.lower, sd.upper),3) for i in range(sd.num_samples)]\n",
    "        # Another attribute showing use of some numpy capabilities (round, mean, array operations)\n",
    "        att2s += [np.round(np.mean(np.array(att1s))*3,1) for i in range(sd.num_samples)]\n",
    "    # Create Panda DataFrame with first two columns\n",
    "    df = pd.DataFrame({'name': names, 'att1': att1s})\n",
    "    # Insert another column (just to demonstrate how to do do)\n",
    "    df['att2'] = att2s\n",
    "    return df\n",
    "\n",
    "df = series_constructor(my_series_descriptor_list)\n",
    "# Inspect data frame\n",
    "df"
   ]
  },
  {
   "cell_type": "code",
   "execution_count": 5,
   "metadata": {},
   "outputs": [],
   "source": [
    "# Write Data Frame to CSV\n",
    "df.to_csv('randomSamples.csv', encoding='utf-8', index=False)"
   ]
  },
  {
   "cell_type": "code",
   "execution_count": 6,
   "metadata": {},
   "outputs": [],
   "source": [
    "# Read Data Frame from CSV\n",
    "df1 = pd.DataFrame(pd.read_csv('randomSamples.csv'))"
   ]
  },
  {
   "cell_type": "code",
   "execution_count": 7,
   "metadata": {},
   "outputs": [
    {
     "name": "stdout",
     "output_type": "stream",
     "text": [
      "['a', 'b', 'c']\n"
     ]
    }
   ],
   "source": [
    "# Rename column from att1 to attr1\n",
    "df1.rename(columns = {'att1': 'attr1'}, inplace = True)\n",
    "\n",
    "# Select desired columns (dropping att2)\n",
    "df2 = df1[['name','attr1']]\n",
    "\n",
    "# Remove 'name:c' samples\n",
    "remove = False\n",
    "if remove:\n",
    "    df3 = df2[df2.name != 'c']\n",
    "else:\n",
    "    df3 = df2\n",
    "\n",
    "\n",
    "# Group data frame by 'id' column\n",
    "dfg = df3.groupby(df3.name)\n",
    "keys = list(dfg.groups.keys())\n",
    "print(keys)"
   ]
  },
  {
   "cell_type": "code",
   "execution_count": 8,
   "metadata": {},
   "outputs": [
    {
     "name": "stdout",
     "output_type": "stream",
     "text": [
      "\n",
      "a\n",
      "count    100.000000\n",
      "mean       5.608780\n",
      "std        1.495955\n",
      "min        3.039000\n",
      "25%        4.286000\n",
      "50%        5.844000\n",
      "75%        6.802000\n",
      "max        7.952000\n",
      "Name: attr1, dtype: float64\n",
      "\n",
      "b\n",
      "count    100.000000\n",
      "mean       6.367020\n",
      "std        1.341649\n",
      "min        4.135000\n",
      "25%        5.146250\n",
      "50%        6.351500\n",
      "75%        7.405750\n",
      "max        8.739000\n",
      "Name: attr1, dtype: float64\n",
      "\n",
      "c\n",
      "count    100.000000\n",
      "mean       3.696920\n",
      "std        0.902247\n",
      "min        2.008000\n",
      "25%        2.944500\n",
      "50%        3.784000\n",
      "75%        4.541000\n",
      "max        4.988000\n",
      "Name: attr1, dtype: float64\n"
     ]
    }
   ],
   "source": [
    "# Show statistics for each queryName engineExecutionTimeInMillis\n",
    "for key in keys:\n",
    "    print(\"\\n\" + key)\n",
    "    print(dfg.get_group(key)['attr1'].describe())"
   ]
  },
  {
   "cell_type": "code",
   "execution_count": 9,
   "metadata": {},
   "outputs": [
    {
     "data": {
      "text/plain": [
       "a         AxesSubplot(0.1,0.15;0.235294x0.75)\n",
       "b    AxesSubplot(0.382353,0.15;0.235294x0.75)\n",
       "c    AxesSubplot(0.664706,0.15;0.235294x0.75)\n",
       "dtype: object"
      ]
     },
     "execution_count": 9,
     "metadata": {},
     "output_type": "execute_result"
    },
    {
     "data": {
      "image/png": "[encoded data removed]",
      "text/plain": [
       "<Figure size 432x288 with 3 Axes>"
      ]
     },
     "metadata": {
      "needs_background": "light"
     },
     "output_type": "display_data"
    }
   ],
   "source": [
    "# Quick boxplot\n",
    "dfg.boxplot(layout=(1,len(keys)))"
   ]
  },
  {
   "cell_type": "code",
   "execution_count": 10,
   "metadata": {},
   "outputs": [
    {
     "data": {
      "image/png": "[encoded data removed]",
      "text/plain": [
       "<Figure size 432x288 with 1 Axes>"
      ]
     },
     "metadata": {
      "needs_background": "light"
     },
     "output_type": "display_data"
    },
    {
     "data": {
      "image/png": "[encoded data removed]",
      "text/plain": [
       "<Figure size 432x288 with 1 Axes>"
      ]
     },
     "metadata": {
      "needs_background": "light"
     },
     "output_type": "display_data"
    },
    {
     "data": {
      "image/png": "[encoded data removed]",
      "text/plain": [
       "<Figure size 432x288 with 1 Axes>"
      ]
     },
     "metadata": {
      "needs_background": "light"
     },
     "output_type": "display_data"
    }
   ],
   "source": [
    "# Split histogram\n",
    "lower_limit = np.round(df3['attr1'].min()-1)\n",
    "higher_limit = np.round(df3['attr1'].max()+1)\n",
    "for i in dfg.groups.keys():\n",
    "    dfg.get_group(i)['attr1'].plot(kind='hist')\n",
    "    plt.title(f\"{i} attr1 histogram\")\n",
    "    plt.xlim(lower_limit,higher_limit)\n",
    "    plt.show()"
   ]
  },
  {
   "cell_type": "code",
   "execution_count": 11,
   "metadata": {},
   "outputs": [
    {
     "data": {
      "text/plain": [
       "Text(0.5, 1.0, 'Combined histogram')"
      ]
     },
     "execution_count": 11,
     "metadata": {},
     "output_type": "execute_result"
    },
    {
     "data": {
      "image/png": "[encoded data removed]",
      "text/plain": [
       "<Figure size 432x288 with 1 Axes>"
      ]
     },
     "metadata": {
      "needs_background": "light"
     },
     "output_type": "display_data"
    }
   ],
   "source": [
    "# Joined histogram\n",
    "dfg['attr1'].plot(kind='hist', alpha=0.3)\n",
    "plt.legend()\n",
    "plt.title(\"Combined histogram\")"
   ]
  },
  {
   "cell_type": "code",
   "execution_count": 12,
   "metadata": {},
   "outputs": [
    {
     "data": {
      "text/plain": [
       "Text(0, 0.5, 'Attr1')"
      ]
     },
     "execution_count": 12,
     "metadata": {},
     "output_type": "execute_result"
    },
    {
     "data": {
      "image/png": "[encoded data removed]",
      "text/plain": [
       "<Figure size 432x288 with 1 Axes>"
      ]
     },
     "metadata": {
      "needs_background": "light"
     },
     "output_type": "display_data"
    }
   ],
   "source": [
    "ax = plt.figure().gca()\n",
    "ax.xaxis.set_ticklabels([])\n",
    "ax.xaxis.set_visible(False)\n",
    "plt.xlim(0, len(keys) + 1)\n",
    "size = 6\n",
    "\n",
    "# Order series by attr1 mean\n",
    "mean_ordered_keys = list(dfg.mean().sort_values('attr1', ascending=True).index)\n",
    "\n",
    "x = 1 \n",
    "for key in mean_ordered_keys:\n",
    "    serie = dfg.get_group(key)['attr1'].tolist()\n",
    "    serie_jitter = [np.random.uniform(x-0.2,x+0.2) for i in serie]\n",
    "    plt.scatter(serie_jitter, serie, label=key, s=size, alpha=0.7)\n",
    "    x += 1\n",
    "    \n",
    "plt.legend(loc='upper right')\n",
    "plt.title(\"Scatter plot with jitter\")\n",
    "plt.ylabel(\"Attr1\", size=14)"
   ]
  },
  {
   "cell_type": "code",
   "execution_count": 13,
   "metadata": {},
   "outputs": [
    {
     "data": {
      "text/plain": [
       "Text(0.5, 1.0, 'Average att by name')"
      ]
     },
     "execution_count": 13,
     "metadata": {},
     "output_type": "execute_result"
    },
    {
     "data": {
      "image/png": "[encoded data removed]",
      "text/plain": [
       "<Figure size 432x288 with 1 Axes>"
      ]
     },
     "metadata": {
      "needs_background": "light"
     },
     "output_type": "display_data"
    }
   ],
   "source": [
    "df.groupby(df.name).mean().plot(kind='bar')\n",
    "plt.legend()\n",
    "plt.title(\"Mean att by name\")"
   ]
  },
  {
   "cell_type": "code",
   "execution_count": null,
   "metadata": {},
   "outputs": [],
   "source": []
  }
 ],
 "metadata": {
  "kernelspec": {
   "display_name": "Python 3",
   "language": "python",
   "name": "python3"
  },
  "language_info": {
   "codemirror_mode": {
    "name": "ipython",
    "version": 3
   },
   "file_extension": ".py",
   "mimetype": "text/x-python",
   "name": "python",
   "nbconvert_exporter": "python",
   "pygments_lexer": "ipython3",
   "version": "3.8.5"
  }
 },
 "nbformat": 4,
 "nbformat_minor": 4
}
