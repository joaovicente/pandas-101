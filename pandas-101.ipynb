{
 "cells": [
  {
   "cell_type": "code",
   "execution_count": 1,
   "metadata": {},
   "outputs": [],
   "source": [
    "import matplotlib.pyplot as plt\n",
    "import numpy as np\n",
    "from matplotlib.ticker import MaxNLocator\n",
    "import pandas as pd"
   ]
  },
  {
   "cell_type": "code",
   "execution_count": 2,
   "metadata": {},
   "outputs": [],
   "source": [
    "# Create 3 series of samples\n",
    "samples = 100\n",
    "a_id = ['a' for i in range(samples)]\n",
    "a_att1 = ([np.round(np.random.uniform(3, 8),3) for i in range(samples)])\n",
    "a_att2 = [1 for i in range(samples)]\n",
    "b_id = ['b' for i in range(samples)]\n",
    "b_att1 = ([np.round(np.random.uniform(4, 9),3) for i in range(samples)])\n",
    "b_att2 = [2 for i in range(samples)]\n",
    "c_id = ['c' for i in range(samples)]\n",
    "c_att1 = ([np.round(np.random.uniform(2, 5),3) for i in range(samples)])\n",
    "c_att2 = [3 for i in range(samples)]\n",
    "ids = a_id + b_id + c_id\n",
    "att1s = a_att1 + b_att1 + c_att1\n",
    "att2s = a_att2 + b_att2 + c_att2"
   ]
  },
  {
   "cell_type": "code",
   "execution_count": 3,
   "metadata": {},
   "outputs": [],
   "source": [
    "# Create Panda DataFrame with first two columns\n",
    "df = pd.DataFrame({'id': ids, 'att1': att1s}) \n",
    "# Insert another column\n",
    "df['att2'] = att2s"
   ]
  },
  {
   "cell_type": "code",
   "execution_count": 4,
   "metadata": {},
   "outputs": [
    {
     "data": {
      "text/html": [
       "<div>\n",
       "<style scoped>\n",
       "    .dataframe tbody tr th:only-of-type {\n",
       "        vertical-align: middle;\n",
       "    }\n",
       "\n",
       "    .dataframe tbody tr th {\n",
       "        vertical-align: top;\n",
       "    }\n",
       "\n",
       "    .dataframe thead th {\n",
       "        text-align: right;\n",
       "    }\n",
       "</style>\n",
       "<table border=\"1\" class=\"dataframe\">\n",
       "  <thead>\n",
       "    <tr style=\"text-align: right;\">\n",
       "      <th></th>\n",
       "      <th>id</th>\n",
       "      <th>att1</th>\n",
       "      <th>att2</th>\n",
       "    </tr>\n",
       "  </thead>\n",
       "  <tbody>\n",
       "    <tr>\n",
       "      <th>0</th>\n",
       "      <td>a</td>\n",
       "      <td>4.832</td>\n",
       "      <td>1</td>\n",
       "    </tr>\n",
       "    <tr>\n",
       "      <th>1</th>\n",
       "      <td>a</td>\n",
       "      <td>5.074</td>\n",
       "      <td>1</td>\n",
       "    </tr>\n",
       "    <tr>\n",
       "      <th>2</th>\n",
       "      <td>a</td>\n",
       "      <td>5.862</td>\n",
       "      <td>1</td>\n",
       "    </tr>\n",
       "    <tr>\n",
       "      <th>3</th>\n",
       "      <td>a</td>\n",
       "      <td>5.668</td>\n",
       "      <td>1</td>\n",
       "    </tr>\n",
       "    <tr>\n",
       "      <th>4</th>\n",
       "      <td>a</td>\n",
       "      <td>4.395</td>\n",
       "      <td>1</td>\n",
       "    </tr>\n",
       "    <tr>\n",
       "      <th>...</th>\n",
       "      <td>...</td>\n",
       "      <td>...</td>\n",
       "      <td>...</td>\n",
       "    </tr>\n",
       "    <tr>\n",
       "      <th>295</th>\n",
       "      <td>c</td>\n",
       "      <td>4.383</td>\n",
       "      <td>3</td>\n",
       "    </tr>\n",
       "    <tr>\n",
       "      <th>296</th>\n",
       "      <td>c</td>\n",
       "      <td>3.593</td>\n",
       "      <td>3</td>\n",
       "    </tr>\n",
       "    <tr>\n",
       "      <th>297</th>\n",
       "      <td>c</td>\n",
       "      <td>2.260</td>\n",
       "      <td>3</td>\n",
       "    </tr>\n",
       "    <tr>\n",
       "      <th>298</th>\n",
       "      <td>c</td>\n",
       "      <td>4.240</td>\n",
       "      <td>3</td>\n",
       "    </tr>\n",
       "    <tr>\n",
       "      <th>299</th>\n",
       "      <td>c</td>\n",
       "      <td>2.143</td>\n",
       "      <td>3</td>\n",
       "    </tr>\n",
       "  </tbody>\n",
       "</table>\n",
       "<p>300 rows × 3 columns</p>\n",
       "</div>"
      ],
      "text/plain": [
       "    id   att1  att2\n",
       "0    a  4.832     1\n",
       "1    a  5.074     1\n",
       "2    a  5.862     1\n",
       "3    a  5.668     1\n",
       "4    a  4.395     1\n",
       "..  ..    ...   ...\n",
       "295  c  4.383     3\n",
       "296  c  3.593     3\n",
       "297  c  2.260     3\n",
       "298  c  4.240     3\n",
       "299  c  2.143     3\n",
       "\n",
       "[300 rows x 3 columns]"
      ]
     },
     "execution_count": 4,
     "metadata": {},
     "output_type": "execute_result"
    }
   ],
   "source": [
    "# Inspect data frame\n",
    "df"
   ]
  },
  {
   "cell_type": "code",
   "execution_count": 5,
   "metadata": {},
   "outputs": [],
   "source": [
    "# Write Data Frame to CSV\n",
    "df.to_csv('randomSamples.csv', encoding='utf-8', index=False)"
   ]
  },
  {
   "cell_type": "code",
   "execution_count": 6,
   "metadata": {},
   "outputs": [],
   "source": [
    "# Read Data Frame from CSV\n",
    "df1 = pd.DataFrame(pd.read_csv('randomSamples.csv'))"
   ]
  },
  {
   "cell_type": "code",
   "execution_count": 7,
   "metadata": {},
   "outputs": [],
   "source": [
    "# Rename column from att1 to attr1\n",
    "df1.rename(columns = {'att1': 'attr1'}, inplace = True)\n",
    "\n",
    "# Select desired columns (dropping att2)\n",
    "df2 = df1[['id','attr1']]\n",
    "\n",
    "# Remove 'id:c' samples\n",
    "remove = False\n",
    "if remove:\n",
    "    df3 = df2[df2.id != 'c']\n",
    "else:\n",
    "    df3 = df2\n",
    "\n",
    "\n",
    "# Group data frame by 'id' column\n",
    "dfg = df3.groupby(df3.id)\n",
    "keys = list(dfg.groups.keys())"
   ]
  },
  {
   "cell_type": "code",
   "execution_count": 8,
   "metadata": {},
   "outputs": [
    {
     "name": "stdout",
     "output_type": "stream",
     "text": [
      "\n",
      "a\n",
      "count    100.000000\n",
      "mean       5.502450\n",
      "std        1.323296\n",
      "min        3.107000\n",
      "25%        4.392000\n",
      "50%        5.458500\n",
      "75%        6.479500\n",
      "max        7.928000\n",
      "Name: attr1, dtype: float64\n",
      "\n",
      "b\n",
      "count    100.000000\n",
      "mean       6.217940\n",
      "std        1.591895\n",
      "min        4.034000\n",
      "25%        4.811250\n",
      "50%        5.950000\n",
      "75%        7.721750\n",
      "max        8.982000\n",
      "Name: attr1, dtype: float64\n",
      "\n",
      "c\n",
      "count    100.000000\n",
      "mean       3.511750\n",
      "std        0.832322\n",
      "min        2.029000\n",
      "25%        2.848250\n",
      "50%        3.459000\n",
      "75%        4.246000\n",
      "max        4.982000\n",
      "Name: attr1, dtype: float64\n"
     ]
    }
   ],
   "source": [
    "# Show statistics for each queryName engineExecutionTimeInMillis\n",
    "for key in keys:\n",
    "    print(\"\\n\" + key)\n",
    "    print(dfg.get_group(key)['attr1'].describe())"
   ]
  },
  {
   "cell_type": "code",
   "execution_count": 9,
   "metadata": {},
   "outputs": [
    {
     "data": {
      "text/plain": [
       "a         AxesSubplot(0.1,0.15;0.235294x0.75)\n",
       "b    AxesSubplot(0.382353,0.15;0.235294x0.75)\n",
       "c    AxesSubplot(0.664706,0.15;0.235294x0.75)\n",
       "dtype: object"
      ]
     },
     "execution_count": 9,
     "metadata": {},
     "output_type": "execute_result"
    },
    {
     "data": {
      "image/png": "[encoded data removed]",
      "text/plain": [
       "<Figure size 432x288 with 3 Axes>"
      ]
     },
     "metadata": {
      "needs_background": "light"
     },
     "output_type": "display_data"
    }
   ],
   "source": [
    "# Quick boxplot\n",
    "dfg.boxplot(layout=(1,len(keys)))"
   ]
  },
  {
   "cell_type": "code",
   "execution_count": 10,
   "metadata": {},
   "outputs": [
    {
     "data": {
      "text/plain": [
       "id\n",
       "a    [[AxesSubplot(0.125,0.670278;0.775x0.209722)],...\n",
       "b    [[AxesSubplot(0.125,0.670278;0.775x0.209722)],...\n",
       "c    [[AxesSubplot(0.125,0.670278;0.775x0.209722)],...\n",
       "dtype: object"
      ]
     },
     "execution_count": 10,
     "metadata": {},
     "output_type": "execute_result"
    },
    {
     "data": {
      "image/png": "[encoded data removed]",
      "text/plain": [
       "<Figure size 432x288 with 3 Axes>"
      ]
     },
     "metadata": {
      "needs_background": "light"
     },
     "output_type": "display_data"
    },
    {
     "data": {
      "image/png": "[encoded data removed]",
      "text/plain": [
       "<Figure size 432x288 with 3 Axes>"
      ]
     },
     "metadata": {
      "needs_background": "light"
     },
     "output_type": "display_data"
    },
    {
     "data": {
      "image/png": "[encoded data removed]",
      "text/plain": [
       "<Figure size 432x288 with 3 Axes>"
      ]
     },
     "metadata": {
      "needs_background": "light"
     },
     "output_type": "display_data"
    }
   ],
   "source": [
    "# Quick histogram\n",
    "dfg.hist(layout=(len(keys),1))"
   ]
  },
  {
   "cell_type": "code",
   "execution_count": 11,
   "metadata": {},
   "outputs": [
    {
     "data": {
      "text/plain": [
       "Text(0, 0.5, 'Attr1')"
      ]
     },
     "execution_count": 11,
     "metadata": {},
     "output_type": "execute_result"
    },
    {
     "data": {
      "image/png": "[encoded data removed]",
      "text/plain": [
       "<Figure size 432x288 with 1 Axes>"
      ]
     },
     "metadata": {
      "needs_background": "light"
     },
     "output_type": "display_data"
    }
   ],
   "source": [
    "ax = plt.figure().gca()\n",
    "ax.xaxis.set_ticklabels([])\n",
    "ax.xaxis.set_visible(False)\n",
    "plt.xlim(0, len(keys) + 1)\n",
    "size = 6\n",
    "\n",
    "x = 1 \n",
    "for key in keys:\n",
    "    serie = dfg.get_group(key)['attr1'].tolist()\n",
    "    serie_jitter = [np.random.uniform(x-0.2,x+0.2) for i in serie]\n",
    "    plt.scatter(serie_jitter, serie, label=key, s=size, alpha=0.7)\n",
    "    x += 1\n",
    "    \n",
    "plt.legend(loc='upper right')\n",
    "plt.title(\"Scatter plot with jitter\")\n",
    "plt.ylabel(\"Attr1\", size=14)"
   ]
  },
  {
   "cell_type": "code",
   "execution_count": null,
   "metadata": {},
   "outputs": [],
   "source": []
  }
 ],
 "metadata": {
  "kernelspec": {
   "display_name": "Python 3",
   "language": "python",
   "name": "python3"
  },
  "language_info": {
   "codemirror_mode": {
    "name": "ipython",
    "version": 3
   },
   "file_extension": ".py",
   "mimetype": "text/x-python",
   "name": "python",
   "nbconvert_exporter": "python",
   "pygments_lexer": "ipython3",
   "version": "3.8.5"
  }
 },
 "nbformat": 4,
 "nbformat_minor": 4
}
